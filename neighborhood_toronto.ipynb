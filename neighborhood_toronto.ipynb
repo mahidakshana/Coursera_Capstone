{
 "cells": [
  {
   "cell_type": "markdown",
   "id": "5bb41bc5",
   "metadata": {},
   "source": [
    "<h1 align=center> Segmentation and clustering Neighborhoods in Tornoto </h1>"
   ]
  },
  {
   "cell_type": "markdown",
   "id": "4bdb2009",
   "metadata": {},
   "source": [
    "## introduction\n",
    "In this project we will explore neighbourhood in Tornoto using Forsqure API.\n",
    "first we'll webscrap the data from wikipedia and then using ForSquare API and folium map extract imporatnt information from this data. We will use k-means clusterning algorithm to do this task"
   ]
  },
  {
   "cell_type": "markdown",
   "id": "4024e024",
   "metadata": {},
   "source": [
    "## Table of Contents\n",
    "  1. <a href=\"#item1\">Part-1 </a>\n",
    "     - import required libraries\n",
    "     - extract and Explore Dataset from Wikipedia using Webscrapping\n",
    "  2. <a href=\"#item2\">Part-2 </a>\n",
    "     - Read coordinates in dataframe from csv files\n",
    "     - create final data frame\n",
    "  3. <a href=\"#item3\">Part-3 </a>\n",
    "     - Use Geopy library to get coordinates of Toronto\n",
    "     - Create a map of Toronto and add all neighborhoods on the same map\n",
    "     - Define Foursqure credential\n",
    "     - Explore Neighborhoods\n",
    "     - Analyze each Neighborhood\n",
    "     - Cluster Neighborhood¶\n",
    "     \n",
    "     \n",
    "     \n",
    "     \n",
    "     \n",
    "      \n",
    "  \n",
    "  \n",
    "  \n",
    " "
   ]
  },
  {
   "cell_type": "markdown",
   "id": "95076869",
   "metadata": {},
   "source": [
    "<h1 align='center'> Part-1 </h1>"
   ]
  },
  {
   "cell_type": "markdown",
   "id": "5c19ef0a",
   "metadata": {},
   "source": [
    "### 1.1 import required libraries"
   ]
  },
  {
   "cell_type": "code",
   "execution_count": null,
   "id": "a418b34e",
   "metadata": {
    "scrolled": true
   },
   "outputs": [],
   "source": [
    "#import libraries\n",
    "!pip install html5lib\n",
    "!pip install lxml\n",
    "!pip install geocoder\n",
    "!pip install bs4\n",
    "!pip install folium \n",
    "!pip install geopy\n",
    "!pip install matplotlib  # Matplotlib and associated plotting modules\n",
    "\n",
    "# import k-means from clustering stage\n",
    "from sklearn.cluster import KMeans\n",
    "\n",
    "import numpy as np\n",
    "import pandas as pd\n",
    "from bs4 import BeautifulSoup\n",
    "\n",
    "import matplotlib.cm as cm\n",
    "import matplotlib.colors as colors\n",
    "\n",
    "import folium\n",
    "from geopy.geocoders import Nominatim # convert an address into latitude and longitude values\n",
    "from pandas.io.json import json_normalize # tranform JSON file into a pandas dataframe\n",
    "\n",
    "import requests\n",
    "import geocoder\n",
    "\n",
    "print(\"all libraries installed and imported succefully\")"
   ]
  },
  {
   "cell_type": "markdown",
   "id": "8b571571",
   "metadata": {},
   "source": [
    "### 1.2 extract and Explore Dataset from Wikipedia using Webscrapping"
   ]
  },
  {
   "cell_type": "code",
   "execution_count": null,
   "id": "f3b54286",
   "metadata": {
    "scrolled": true
   },
   "outputs": [],
   "source": [
    "# using webscrapping to extract data\n",
    "url=\"https://en.wikipedia.org/wiki/List_of_postal_codes_of_Canada:_M\"\n",
    "html_data= requests.get(url).text\n",
    "beautiful_soup=BeautifulSoup(html_data,\"html.parser\")\n",
    "\n",
    "# crete new data frame\n",
    "df=pd.DataFrame(columns=['PostalCode','Borough','Neighborhood'])\n",
    "df\n",
    "\n",
    "\n",
    "# append data in data frame by webscrpping\n",
    "for row in beautiful_soup.find(\"tbody\").find_all(\"tr\"):\n",
    "    for col in row.find_all(\"td\"):\n",
    "        if col.span.text=='Not assigned':\n",
    "            pass\n",
    "        else:\n",
    "            pcode=col.p.text[:3]\n",
    "            borough=(col.span.text).split('(')[0]\n",
    "            nhood=(((((col.span.text).split('(')[1]).strip(')')).replace(' /',',')).replace(')',' ')).strip(' ')\n",
    "            df=df.append({'PostalCode':pcode,'Borough':borough,'Neighborhood':nhood},ignore_index=True)\n",
    "        \n",
    "df['Borough']=df['Borough'].replace({'Downtown TorontoStn A PO Boxes25 The Esplanade':'Downtown Toronto Stn A',\n",
    "                                             'East TorontoBusiness reply mail Processing Centre969 Eastern':'East Toronto Business',\n",
    "                                             'EtobicokeNorthwest':'Etobicoke Northwest','East YorkEast Toronto':'East York/East Toronto',\n",
    "                                             'MississaugaCanada Post Gateway Processing Centre':'Mississauga'})\n"
   ]
  },
  {
   "cell_type": "code",
   "execution_count": null,
   "id": "e9e2f0b3",
   "metadata": {},
   "outputs": [],
   "source": [
    "df.shape\n"
   ]
  },
  {
   "cell_type": "markdown",
   "id": "3be66bc1",
   "metadata": {},
   "source": [
    "<h1 align='center'> Part-2 </h1>"
   ]
  },
  {
   "cell_type": "markdown",
   "id": "c742ba58",
   "metadata": {},
   "source": [
    "### 2.1 Read coordinates in dataframe from csv files"
   ]
  },
  {
   "cell_type": "code",
   "execution_count": null,
   "id": "722acdf6",
   "metadata": {},
   "outputs": [],
   "source": [
    "df_coord=pd.read_csv(\"Geospatial_Coordinates.csv\")\n",
    "df_coord.rename(columns= {'Postal Code':'PostalCode'},inplace=True)\n"
   ]
  },
  {
   "cell_type": "markdown",
   "id": "bde593ab",
   "metadata": {},
   "source": [
    "### 2.2 merge both data frame to make final data frame which contain coordinates also"
   ]
  },
  {
   "cell_type": "code",
   "execution_count": null,
   "id": "e297303f",
   "metadata": {},
   "outputs": [],
   "source": [
    "result=pd.merge(df,df_coord,on=['PostalCode'])\n",
    "result"
   ]
  },
  {
   "cell_type": "markdown",
   "id": "60035f21",
   "metadata": {},
   "source": [
    "<h1 align='center'> Part-3 </h1>\n",
    "<h2 align='center'> Clustering and Segmenting </h2>"
   ]
  },
  {
   "cell_type": "markdown",
   "id": "789747ad",
   "metadata": {},
   "source": [
    "### 3.1 Use Geopy library to get coordinates of Toronto"
   ]
  },
  {
   "cell_type": "code",
   "execution_count": null,
   "id": "3ef27542",
   "metadata": {},
   "outputs": [],
   "source": [
    "from geopy.geocoders import Nominatim # convert an address into latitude and longitude values\n",
    "\n",
    "address='Toronto'\n",
    "geolocator=Nominatim(user_agent='Tr_explore')\n",
    "location=geolocator.geocode(address)\n",
    "latitude=location.latitude\n",
    "longitude=location.longitude\n",
    "print(\"The geographical coordinates of Tronoto are: {},{}\".format(latitude,longitude))"
   ]
  },
  {
   "cell_type": "markdown",
   "id": "82822072",
   "metadata": {},
   "source": [
    "### 3.2 Create a map of Toronto and add all neighborhoods on the same map"
   ]
  },
  {
   "cell_type": "code",
   "execution_count": null,
   "id": "d28b24f7",
   "metadata": {},
   "outputs": [],
   "source": [
    "# create map of Tronto\n",
    "map_toronto= folium.Map(location=[latitude,longitude],zoom_start=13)\n",
    "\n",
    "#add neghborhood on toronto map\n",
    "\n",
    "for lat,lng,borough,nhood in zip(result['Latitude'],result['Longitude'],result['Borough'],result['Neighborhood']):\n",
    "        label=\"{},{}\".format(nhood,borough)\n",
    "        label = folium.Popup(label, parse_html=True)\n",
    "        folium.CircleMarker(\n",
    "        [lat,lng],\n",
    "        radius=5,\n",
    "        popup=label,\n",
    "        color='blue',\n",
    "        fill=True,\n",
    "        fill_color='red',\n",
    "        fill_opacity=0.7,\n",
    "        parse_html=False).add_to(map_toronto)\n",
    "\n",
    "map_toronto\n"
   ]
  },
  {
   "cell_type": "markdown",
   "id": "a02819a3",
   "metadata": {},
   "source": [
    "above map is too congested, so for illustration purpose We'll use small set of Data\n",
    "Let's simplify the above map and consider only those neighborhood whose Borough name conatains \"Toronto\""
   ]
  },
  {
   "cell_type": "code",
   "execution_count": null,
   "id": "1ba7dfc6",
   "metadata": {},
   "outputs": [],
   "source": [
    "result.head()\n",
    "tr_data=result[ result['Borough'].str.contains('Toronto')].reset_index(drop=True)\n",
    "tr_data"
   ]
  },
  {
   "cell_type": "code",
   "execution_count": null,
   "id": "38af6d42",
   "metadata": {},
   "outputs": [],
   "source": [
    "# create map of Tronto\n",
    "map_toronto= folium.Map(location=[latitude,longitude],zoom_start=13)\n",
    "\n",
    "#add neghborhood on toronto map\n",
    "\n",
    "for lat,lng,borough,nhood in zip(tr_data['Latitude'],tr_data['Longitude'],tr_data['Borough'],tr_data['Neighborhood']):\n",
    "        label=\"{},{}\".format(nhood,borough)\n",
    "        label = folium.Popup(label, parse_html=True)\n",
    "        folium.CircleMarker(\n",
    "        [lat,lng],\n",
    "        radius=5,\n",
    "        popup=label,\n",
    "        color='blue',\n",
    "        fill=True,\n",
    "        fill_color='red',\n",
    "        fill_opacity=0.7,\n",
    "        parse_html=False).add_to(map_toronto)\n",
    "\n",
    "map_toronto"
   ]
  },
  {
   "cell_type": "markdown",
   "id": "a882ec71",
   "metadata": {},
   "source": [
    "Now we are going to use Foursqure API to explore the neighborhood and explore them"
   ]
  },
  {
   "cell_type": "markdown",
   "id": "ac9b629f",
   "metadata": {},
   "source": [
    "###  3.3Define Foursqure credential"
   ]
  },
  {
   "cell_type": "code",
   "execution_count": null,
   "id": "07612d56",
   "metadata": {},
   "outputs": [],
   "source": [
    "CLIENT_ID = '15VSS0FQMGGTRNLEKHI1SFVW1CCLK12MDZ3E4GZKWJHNQHO1' # your Foursquare ID\n",
    "CLIENT_SECRET = 'FLYBN5UVHBPC1DZGXGJWCI1K53K3PJHVCYXGMQJVE4FJPQOC' # your Foursquare Secret\n",
    "VERSION = '20180605' # Foursquare API version\n",
    "LIMIT = 100 # A default Foursquare API limit value\n",
    "\n",
    "print('Your credentails:')\n",
    "print('CLIENT_ID: ' + CLIENT_ID)\n",
    "print('CLIENT_SECRET:' + CLIENT_SECRET)"
   ]
  },
  {
   "cell_type": "markdown",
   "id": "28f5645c",
   "metadata": {},
   "source": [
    "Let's explore the first neighborhood from our data frame"
   ]
  },
  {
   "cell_type": "code",
   "execution_count": null,
   "id": "2c70d1d8",
   "metadata": {},
   "outputs": [],
   "source": [
    "nhood_name=tr_data.loc[0,'Neighborhood'].split(',')[0].strip()\n",
    "nhood_name"
   ]
  },
  {
   "cell_type": "markdown",
   "id": "8e1a0cc9",
   "metadata": {},
   "source": [
    "Get the neighborhood latitude and longitude"
   ]
  },
  {
   "cell_type": "code",
   "execution_count": null,
   "id": "3dd5447a",
   "metadata": {},
   "outputs": [],
   "source": [
    "nhood_lat= tr_data.loc[0,'Latitude']\n",
    "nhood_lng= tr_data.loc[0,'Longitude']\n",
    "print(\"selected neighborhood is {} and its Coordinate are: {},{}\".format(nhood_name,nhood_lat,nhood_lng))"
   ]
  },
  {
   "cell_type": "markdown",
   "id": "f51f1539",
   "metadata": {},
   "source": [
    "### Let's get top 100 venues in Regent Park within a radius of 300 metre"
   ]
  },
  {
   "cell_type": "code",
   "execution_count": null,
   "id": "5f79c620",
   "metadata": {},
   "outputs": [],
   "source": [
    "LIMIT=100\n",
    "radius=300\n",
    "url=\"https://api.foursquare.com/v2/venues/explore?client_id={}&client_secret={}&v={}&ll={},{}&radius={}&limit={}\".format(\n",
    "    CLIENT_ID, \n",
    "    CLIENT_SECRET, \n",
    "    VERSION, \n",
    "    nhood_lat, \n",
    "    nhood_lng, \n",
    "    radius, \n",
    "    LIMIT)\n",
    "url"
   ]
  },
  {
   "cell_type": "code",
   "execution_count": null,
   "id": "8921d5df",
   "metadata": {},
   "outputs": [],
   "source": [
    "results=requests.get(url).json()\n",
    "results\n"
   ]
  },
  {
   "cell_type": "code",
   "execution_count": null,
   "id": "e72ad962",
   "metadata": {},
   "outputs": [],
   "source": [
    "# function that extracts the category of the venue\n",
    "def get_category_type(row):\n",
    "    try:\n",
    "        categories_list = row['categories']\n",
    "    except:\n",
    "        categories_list = row['venue.categories']\n",
    "        \n",
    "    if len(categories_list) == 0:\n",
    "        return None\n",
    "    else:\n",
    "        return categories_list[0]['name']"
   ]
  },
  {
   "cell_type": "code",
   "execution_count": null,
   "id": "35fc67ff",
   "metadata": {
    "scrolled": true
   },
   "outputs": [],
   "source": [
    "venue=results['response']['groups'][0]['items']\n",
    "nearby_venues=json_normalize(venue)\n",
    "nearby_venues\n",
    "\n",
    "# filter columns\n",
    "filtered_columns = ['venue.name', 'venue.categories', 'venue.location.lat', 'venue.location.lng']\n",
    "nearby_venues =nearby_venues.loc[:, filtered_columns]\n",
    "\n",
    "\n",
    "# filter the category for each row\n",
    "nearby_venues['venue.categories'] = nearby_venues.apply(get_category_type, axis=1)\n",
    "\n",
    "# clean columns\n",
    "nearby_venues.columns = [col.split(\".\")[-1] for col in nearby_venues.columns]\n",
    "\n",
    "print(nearby_venues.shape)\n",
    "nearby_venues.head()"
   ]
  },
  {
   "cell_type": "markdown",
   "id": "3105e8cd",
   "metadata": {},
   "source": [
    "### 3.4 Explore Neighborhoods "
   ]
  },
  {
   "cell_type": "markdown",
   "id": "6add138f",
   "metadata": {},
   "source": [
    "define a function getNearbyVenue which takes location of Neighborhood and create data frame of max 100 venues which lies within 500 meter radius of that neighborhood"
   ]
  },
  {
   "cell_type": "code",
   "execution_count": null,
   "id": "f64112fc",
   "metadata": {},
   "outputs": [],
   "source": [
    "def getNearbyVenues(names, latitudes, longitudes, radius=500):\n",
    "    \n",
    "    venues_list=[]\n",
    "    for name, lat, lng in zip(names, latitudes, longitudes):\n",
    "        print(name)\n",
    "            \n",
    "        # create the API request URL\n",
    "        url = 'https://api.foursquare.com/v2/venues/explore?&client_id={}&client_secret={}&v={}&ll={},{}&radius={}&limit={}'.format(\n",
    "            CLIENT_ID, \n",
    "            CLIENT_SECRET, \n",
    "            VERSION, \n",
    "            lat, \n",
    "            lng, \n",
    "            radius, \n",
    "            LIMIT)\n",
    "            \n",
    "        # make the GET request\n",
    "        results = requests.get(url).json()[\"response\"]['groups'][0]['items']\n",
    "        \n",
    "        # return only relevant information for each nearby venue\n",
    "        venues_list.append([(\n",
    "            name, \n",
    "            lat, \n",
    "            lng, \n",
    "            v['venue']['name'], \n",
    "            v['venue']['location']['lat'], \n",
    "            v['venue']['location']['lng'],  \n",
    "            v['venue']['categories'][0]['name']) for v in results])\n",
    "\n",
    "    nearby_venues = pd.DataFrame([item for venue_list in venues_list for item in venue_list])\n",
    "    nearby_venues.columns = ['Neighborhood', \n",
    "                  'Neighborhood Latitude', \n",
    "                  'Neighborhood Longitude', \n",
    "                  'Venue', \n",
    "                  'Venue Latitude', \n",
    "                  'Venue Longitude', \n",
    "                  'Venue Category']\n",
    "    \n",
    "    return(nearby_venues)\n",
    "    "
   ]
  },
  {
   "cell_type": "markdown",
   "id": "c8c3f774",
   "metadata": {},
   "source": [
    "toronto_venue is data frame of all the venues details for all neighborhood which contains word 'Toronto'"
   ]
  },
  {
   "cell_type": "code",
   "execution_count": null,
   "id": "70791d82",
   "metadata": {},
   "outputs": [],
   "source": [
    "toronto_venue=getNearbyVenues(tr_data['Neighborhood'],tr_data['Latitude'],tr_data['Longitude'])"
   ]
  },
  {
   "cell_type": "code",
   "execution_count": null,
   "id": "837de0d5",
   "metadata": {},
   "outputs": [],
   "source": [
    "print(toronto_venue.shape)\n",
    "toronto_venue.head()\n"
   ]
  },
  {
   "cell_type": "markdown",
   "id": "0f403af5",
   "metadata": {},
   "source": [
    "#### Count No. of values returned for each neighborhood"
   ]
  },
  {
   "cell_type": "code",
   "execution_count": null,
   "id": "f6da3e0d",
   "metadata": {},
   "outputs": [],
   "source": [
    "toronto_venue.groupby(\"Neighborhood\").count()"
   ]
  },
  {
   "cell_type": "markdown",
   "id": "ac6ed622",
   "metadata": {},
   "source": [
    "Let's try to find out no. of venues for each category in neighborhood of Toronto <br>\n",
    "We can sort them is descending order and we can find that coffe shop is maximum followed by cafe an then Restaurant"
   ]
  },
  {
   "cell_type": "code",
   "execution_count": null,
   "id": "ec881ade",
   "metadata": {},
   "outputs": [],
   "source": [
    "toronto_venue.groupby(\"Venue Category\").count().sort_values(by='Venue',ascending=False)"
   ]
  },
  {
   "cell_type": "markdown",
   "id": "01f15461",
   "metadata": {},
   "source": [
    "### 3.5 Analyze each Neighborhood"
   ]
  },
  {
   "cell_type": "code",
   "execution_count": null,
   "id": "fa7bfef5",
   "metadata": {},
   "outputs": [],
   "source": [
    "\n",
    "# one hot encoding\n",
    "toronto1 = pd.get_dummies(toronto_venue[['Venue Category']], prefix=\"\", prefix_sep=\"\")\n",
    "toronto1.drop(\"Neighborhood\",inplace=True,axis=1)\n",
    "# add neighborhood column back to dataframe\n",
    "toronto1['Neighborhood'] = toronto_venue['Neighborhood'] \n",
    "\n",
    "# move neighborhood column to the first column\n",
    "fixed_columns = [toronto1.columns[-1]] + list(toronto1.columns[:-1])\n",
    "toronto1 = toronto1[fixed_columns]\n",
    "toronto1.head()"
   ]
  },
  {
   "cell_type": "code",
   "execution_count": null,
   "id": "e90e3f9e",
   "metadata": {},
   "outputs": [],
   "source": [
    "toronto_grouped=toronto1.groupby(\"Neighborhood\").mean().reset_index()\n",
    "toronto_grouped"
   ]
  },
  {
   "cell_type": "markdown",
   "id": "de3099e4",
   "metadata": {},
   "source": [
    "Let's find out the top 10 venues for each Neigborhood"
   ]
  },
  {
   "cell_type": "code",
   "execution_count": null,
   "id": "5d2cf62d",
   "metadata": {},
   "outputs": [],
   "source": [
    "# crete a function which return top n common venue\n",
    "def top_n_venue(row,n):\n",
    "    venue=row[1:]\n",
    "    venue_sorted=venue.sort_values(ascending=False)\n",
    "    return venue_sorted.index.values[0:n]"
   ]
  },
  {
   "cell_type": "code",
   "execution_count": null,
   "id": "b91b42e0",
   "metadata": {},
   "outputs": [],
   "source": [
    "n=10\n",
    "columns=['Neighborhood',1,2,3,4,5,6,7,8,9,10]\n",
    "\n",
    "toronto_venue_sorted=pd.DataFrame(columns=columns)\n",
    "toronto_venue_sorted['Neighborhood']=toronto_grouped['Neighborhood']\n",
    "for i in range(toronto_grouped.shape[0]):\n",
    "    toronto_venue_sorted.iloc[i,1:]=top_n_venue(toronto_grouped.iloc[i,:],n)\n",
    "toronto_venue_sorted.head()\n"
   ]
  },
  {
   "cell_type": "markdown",
   "id": "23a23bfe",
   "metadata": {},
   "source": [
    "### 3.6 Cluster Neighborhood"
   ]
  },
  {
   "cell_type": "code",
   "execution_count": null,
   "id": "623d7ee7",
   "metadata": {},
   "outputs": [],
   "source": [
    "# set number of clusters\n",
    "kclusters = 5\n",
    "\n",
    "toronto_grouped_clustering = toronto_grouped.drop('Neighborhood', 1)\n",
    "\n",
    "# run k-means clustering\n",
    "kmeans = KMeans(n_clusters=kclusters, random_state=0).fit(toronto_grouped_clustering)\n",
    "\n",
    "# check cluster labels generated for each row in the dataframe\n",
    "kmeans.labels_[0:100] "
   ]
  },
  {
   "cell_type": "code",
   "execution_count": null,
   "id": "5acd28f3",
   "metadata": {},
   "outputs": [],
   "source": [
    "toronto_venue_sorted.drop('Cluster Labels',inplace=True,axis=1)\n",
    "toronto_venue_sorted.insert(0,'Cluster Labels',kmeans.labels_)\n",
    "toronto_venue_sorted\n",
    "final=tr_data\n",
    "final=final.join(toronto_venue_sorted.set_index('Neighborhood'),on='Neighborhood')\n",
    "final"
   ]
  },
  {
   "cell_type": "code",
   "execution_count": null,
   "id": "c1b2bdaa",
   "metadata": {},
   "outputs": [],
   "source": [
    "# create map\n",
    "map_clusters = folium.Map(location=[latitude, longitude], zoom_start=11)\n",
    "\n",
    "# set color scheme for the clusters\n",
    "x = np.arange(kclusters)\n",
    "ys = [i + x + (i*x)**2 for i in range(kclusters)]\n",
    "print(ys)\n",
    "colors_array = cm.rainbow(np.linspace(0, 1, len(ys)))\n",
    "rainbow = [colors.rgb2hex(i) for i in colors_array]\n",
    "\n",
    "# add markers to the map\n",
    "markers_colors = []\n",
    "for lat, lon, poi, cluster in zip(final['Latitude'], final['Longitude'], final['Neighborhood'], final['Cluster Labels']):\n",
    "    label = folium.Popup(str(poi) + ' Cluster ' + str(cluster), parse_html=True)\n",
    "    folium.CircleMarker(\n",
    "        [lat, lon],\n",
    "        radius=5,\n",
    "        popup=label,\n",
    "        color=rainbow[cluster-1],\n",
    "        fill=True,\n",
    "        fill_color=rainbow[cluster-1],\n",
    "        fill_opacity=0.7).add_to(map_clusters)\n",
    "       \n",
    "map_clusters"
   ]
  },
  {
   "cell_type": "code",
   "execution_count": null,
   "id": "b8c50d07",
   "metadata": {},
   "outputs": [],
   "source": []
  },
  {
   "cell_type": "code",
   "execution_count": null,
   "id": "44777472",
   "metadata": {},
   "outputs": [],
   "source": []
  }
 ],
 "metadata": {
  "kernelspec": {
   "display_name": "Python 3",
   "language": "python",
   "name": "python3"
  },
  "language_info": {
   "codemirror_mode": {
    "name": "ipython",
    "version": 3
   },
   "file_extension": ".py",
   "mimetype": "text/x-python",
   "name": "python",
   "nbconvert_exporter": "python",
   "pygments_lexer": "ipython3",
   "version": "3.9.5"
  }
 },
 "nbformat": 4,
 "nbformat_minor": 5
}
