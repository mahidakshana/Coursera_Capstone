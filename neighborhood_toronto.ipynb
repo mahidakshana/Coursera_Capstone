{
 "cells": [
  {
   "cell_type": "markdown",
   "id": "5bb41bc5",
   "metadata": {},
   "source": [
    "<h1 align=center> Segmentation and clustering Neighborhoods in Tornoto </h1>"
   ]
  },
  {
   "cell_type": "markdown",
   "id": "4bdb2009",
   "metadata": {},
   "source": [
    "## introduction\n",
    "In this project we will explore neighbourhood in Tornoto using Forsqure API.\n",
    "first we'll webscrap the data from wikipedia and then using ForSquare API and folium map extract imporatnt information from this data. We will use k-means clusterning algorithm to do this task"
   ]
  },
  {
   "cell_type": "markdown",
   "id": "4024e024",
   "metadata": {},
   "source": [
    "## Table of Contents\n",
    "1.  <a href=\"#item1\"> import required libraries</a>\n",
    "2.  <a href=\"#item1\">extract and Explore Dataset from Wikipedia using Webscrapping</a>\n"
   ]
  },
  {
   "cell_type": "markdown",
   "id": "95076869",
   "metadata": {},
   "source": [
    "<h1 align='center'> Part-1 </h1>"
   ]
  },
  {
   "cell_type": "markdown",
   "id": "5c19ef0a",
   "metadata": {},
   "source": [
    "## 1.Import required libraries"
   ]
  },
  {
   "cell_type": "code",
   "execution_count": 2,
   "id": "a418b34e",
   "metadata": {},
   "outputs": [
    {
     "name": "stdout",
     "output_type": "stream",
     "text": [
      "Requirement already satisfied: html5lib in c:\\users\\mahi7\\appdata\\local\\programs\\python\\python39\\lib\\site-packages (1.1)\n",
      "Requirement already satisfied: webencodings in c:\\users\\mahi7\\appdata\\local\\programs\\python\\python39\\lib\\site-packages (from html5lib) (0.5.1)\n",
      "Requirement already satisfied: six>=1.9 in c:\\users\\mahi7\\appdata\\local\\programs\\python\\python39\\lib\\site-packages (from html5lib) (1.15.0)\n"
     ]
    },
    {
     "name": "stderr",
     "output_type": "stream",
     "text": [
      "WARNING: You are using pip version 21.1.1; however, version 21.1.2 is available.\n",
      "You should consider upgrading via the 'c:\\users\\mahi7\\appdata\\local\\programs\\python\\python39\\python.exe -m pip install --upgrade pip' command.\n"
     ]
    },
    {
     "name": "stdout",
     "output_type": "stream",
     "text": [
      "Requirement already satisfied: lxml in c:\\users\\mahi7\\appdata\\local\\programs\\python\\python39\\lib\\site-packages (4.6.3)\n"
     ]
    },
    {
     "name": "stderr",
     "output_type": "stream",
     "text": [
      "WARNING: You are using pip version 21.1.1; however, version 21.1.2 is available.\n",
      "You should consider upgrading via the 'c:\\users\\mahi7\\appdata\\local\\programs\\python\\python39\\python.exe -m pip install --upgrade pip' command.\n"
     ]
    },
    {
     "name": "stdout",
     "output_type": "stream",
     "text": [
      "Requirement already satisfied: geocoder in c:\\users\\mahi7\\appdata\\local\\programs\\python\\python39\\lib\\site-packages (1.38.1)\n",
      "Requirement already satisfied: ratelim in c:\\users\\mahi7\\appdata\\local\\programs\\python\\python39\\lib\\site-packages (from geocoder) (0.1.6)\n",
      "Requirement already satisfied: six in c:\\users\\mahi7\\appdata\\local\\programs\\python\\python39\\lib\\site-packages (from geocoder) (1.15.0)\n",
      "Requirement already satisfied: click in c:\\users\\mahi7\\appdata\\local\\programs\\python\\python39\\lib\\site-packages (from geocoder) (8.0.1)\n",
      "Requirement already satisfied: future in c:\\users\\mahi7\\appdata\\local\\programs\\python\\python39\\lib\\site-packages (from geocoder) (0.18.2)\n",
      "Requirement already satisfied: requests in c:\\users\\mahi7\\appdata\\local\\programs\\python\\python39\\lib\\site-packages (from geocoder) (2.25.1)\n",
      "Requirement already satisfied: colorama in c:\\users\\mahi7\\appdata\\local\\programs\\python\\python39\\lib\\site-packages (from click->geocoder) (0.4.4)\n",
      "Requirement already satisfied: decorator in c:\\users\\mahi7\\appdata\\local\\programs\\python\\python39\\lib\\site-packages (from ratelim->geocoder) (5.0.7)\n",
      "Requirement already satisfied: urllib3<1.27,>=1.21.1 in c:\\users\\mahi7\\appdata\\local\\programs\\python\\python39\\lib\\site-packages (from requests->geocoder) (1.26.4)\n",
      "Requirement already satisfied: idna<3,>=2.5 in c:\\users\\mahi7\\appdata\\local\\programs\\python\\python39\\lib\\site-packages (from requests->geocoder) (2.10)\n",
      "Requirement already satisfied: chardet<5,>=3.0.2 in c:\\users\\mahi7\\appdata\\local\\programs\\python\\python39\\lib\\site-packages (from requests->geocoder) (4.0.0)\n",
      "Requirement already satisfied: certifi>=2017.4.17 in c:\\users\\mahi7\\appdata\\local\\programs\\python\\python39\\lib\\site-packages (from requests->geocoder) (2020.12.5)\n"
     ]
    },
    {
     "name": "stderr",
     "output_type": "stream",
     "text": [
      "WARNING: You are using pip version 21.1.1; however, version 21.1.2 is available.\n",
      "You should consider upgrading via the 'c:\\users\\mahi7\\appdata\\local\\programs\\python\\python39\\python.exe -m pip install --upgrade pip' command.\n"
     ]
    },
    {
     "name": "stdout",
     "output_type": "stream",
     "text": [
      "Requirement already satisfied: bs4 in c:\\users\\mahi7\\appdata\\local\\programs\\python\\python39\\lib\\site-packages (0.0.1)\n",
      "Requirement already satisfied: beautifulsoup4 in c:\\users\\mahi7\\appdata\\local\\programs\\python\\python39\\lib\\site-packages (from bs4) (4.9.3)\n",
      "Requirement already satisfied: soupsieve>1.2 in c:\\users\\mahi7\\appdata\\local\\programs\\python\\python39\\lib\\site-packages (from beautifulsoup4->bs4) (2.2.1)\n"
     ]
    },
    {
     "name": "stderr",
     "output_type": "stream",
     "text": [
      "WARNING: You are using pip version 21.1.1; however, version 21.1.2 is available.\n",
      "You should consider upgrading via the 'c:\\users\\mahi7\\appdata\\local\\programs\\python\\python39\\python.exe -m pip install --upgrade pip' command.\n"
     ]
    },
    {
     "name": "stdout",
     "output_type": "stream",
     "text": [
      "all libraries installed and imported succefully\n"
     ]
    }
   ],
   "source": [
    "#import libraries\n",
    "!pip install html5lib\n",
    "!pip install lxml\n",
    "!pip install geocoder\n",
    "!pip install bs4\n",
    "import numpy as np\n",
    "import pandas as pd\n",
    "from bs4 import BeautifulSoup\n",
    "import requests\n",
    "import geocoder\n",
    "print(\"all libraries installed and imported succefully\")"
   ]
  },
  {
   "cell_type": "markdown",
   "id": "8b571571",
   "metadata": {},
   "source": [
    "## 2.extract and Explore Dataset from Wikipedia using Webscrapping"
   ]
  },
  {
   "cell_type": "code",
   "execution_count": 3,
   "id": "f3b54286",
   "metadata": {
    "scrolled": true
   },
   "outputs": [],
   "source": [
    "# using webscrapping to extract data\n",
    "url=\"https://en.wikipedia.org/wiki/List_of_postal_codes_of_Canada:_M\"\n",
    "html_data= requests.get(url).text\n",
    "beautiful_soup=BeautifulSoup(html_data,\"html.parser\")\n",
    "\n",
    "# crete new data frame\n",
    "df=pd.DataFrame(columns=['PostalCode','Borough','Neighborhood'])\n",
    "df\n",
    "\n",
    "\n",
    "# append data in data frame by webscrpping\n",
    "for row in beautiful_soup.find(\"tbody\").find_all(\"tr\"):\n",
    "    for col in row.find_all(\"td\"):\n",
    "        if col.span.text=='Not assigned':\n",
    "            pass\n",
    "        else:\n",
    "            pcode=col.p.text[:3]\n",
    "            borough=(col.span.text).split('(')[0]\n",
    "            nhood=(((((col.span.text).split('(')[1]).strip(')')).replace(' /',',')).replace(')',' ')).strip(' ')\n",
    "            df=df.append({'PostalCode':pcode,'Borough':borough,'Neighborhood':nhood},ignore_index=True)\n",
    "        \n",
    "df['Borough']=df['Borough'].replace({'Downtown TorontoStn A PO Boxes25 The Esplanade':'Downtown Toronto Stn A',\n",
    "                                             'East TorontoBusiness reply mail Processing Centre969 Eastern':'East Toronto Business',\n",
    "                                             'EtobicokeNorthwest':'Etobicoke Northwest','East YorkEast Toronto':'East York/East Toronto',\n",
    "                                             'MississaugaCanada Post Gateway Processing Centre':'Mississauga'})\n"
   ]
  },
  {
   "cell_type": "code",
   "execution_count": 35,
   "id": "e9e2f0b3",
   "metadata": {},
   "outputs": [
    {
     "data": {
      "text/plain": [
       "(103, 3)"
      ]
     },
     "execution_count": 35,
     "metadata": {},
     "output_type": "execute_result"
    }
   ],
   "source": [
    "df.shape\n"
   ]
  },
  {
   "cell_type": "markdown",
   "id": "3be66bc1",
   "metadata": {},
   "source": [
    "<h1 align='center'> Part-2 </h1>"
   ]
  },
  {
   "cell_type": "markdown",
   "id": "c742ba58",
   "metadata": {},
   "source": [
    "### Read coordinates in dataframe from csv files"
   ]
  },
  {
   "cell_type": "code",
   "execution_count": 34,
   "id": "722acdf6",
   "metadata": {},
   "outputs": [],
   "source": [
    "df_coord=pd.read_csv(\"Geospatial_Coordinates.csv\")\n",
    "df_coord.rename(columns= {'Postal Code':'PostalCode'},inplace=True)\n"
   ]
  },
  {
   "cell_type": "markdown",
   "id": "bde593ab",
   "metadata": {},
   "source": [
    "### merge both data frame to make final data frame which contain coordinates also"
   ]
  },
  {
   "cell_type": "code",
   "execution_count": 36,
   "id": "e297303f",
   "metadata": {},
   "outputs": [
    {
     "data": {
      "text/html": [
       "<div>\n",
       "<style scoped>\n",
       "    .dataframe tbody tr th:only-of-type {\n",
       "        vertical-align: middle;\n",
       "    }\n",
       "\n",
       "    .dataframe tbody tr th {\n",
       "        vertical-align: top;\n",
       "    }\n",
       "\n",
       "    .dataframe thead th {\n",
       "        text-align: right;\n",
       "    }\n",
       "</style>\n",
       "<table border=\"1\" class=\"dataframe\">\n",
       "  <thead>\n",
       "    <tr style=\"text-align: right;\">\n",
       "      <th></th>\n",
       "      <th>PostalCode</th>\n",
       "      <th>Borough</th>\n",
       "      <th>Neighborhood</th>\n",
       "      <th>Latitude</th>\n",
       "      <th>Longitude</th>\n",
       "    </tr>\n",
       "  </thead>\n",
       "  <tbody>\n",
       "    <tr>\n",
       "      <th>0</th>\n",
       "      <td>M3A</td>\n",
       "      <td>North York</td>\n",
       "      <td>Parkwoods</td>\n",
       "      <td>43.753259</td>\n",
       "      <td>-79.329656</td>\n",
       "    </tr>\n",
       "    <tr>\n",
       "      <th>1</th>\n",
       "      <td>M4A</td>\n",
       "      <td>North York</td>\n",
       "      <td>Victoria Village</td>\n",
       "      <td>43.725882</td>\n",
       "      <td>-79.315572</td>\n",
       "    </tr>\n",
       "    <tr>\n",
       "      <th>2</th>\n",
       "      <td>M5A</td>\n",
       "      <td>Downtown Toronto</td>\n",
       "      <td>Regent Park, Harbourfront</td>\n",
       "      <td>43.654260</td>\n",
       "      <td>-79.360636</td>\n",
       "    </tr>\n",
       "    <tr>\n",
       "      <th>3</th>\n",
       "      <td>M6A</td>\n",
       "      <td>North York</td>\n",
       "      <td>Lawrence Manor, Lawrence Heights</td>\n",
       "      <td>43.718518</td>\n",
       "      <td>-79.464763</td>\n",
       "    </tr>\n",
       "    <tr>\n",
       "      <th>4</th>\n",
       "      <td>M7A</td>\n",
       "      <td>Queen's Park</td>\n",
       "      <td>Ontario Provincial Government</td>\n",
       "      <td>43.662301</td>\n",
       "      <td>-79.389494</td>\n",
       "    </tr>\n",
       "    <tr>\n",
       "      <th>...</th>\n",
       "      <td>...</td>\n",
       "      <td>...</td>\n",
       "      <td>...</td>\n",
       "      <td>...</td>\n",
       "      <td>...</td>\n",
       "    </tr>\n",
       "    <tr>\n",
       "      <th>98</th>\n",
       "      <td>M8X</td>\n",
       "      <td>Etobicoke</td>\n",
       "      <td>The Kingsway, Montgomery Road, Old Mill North</td>\n",
       "      <td>43.653654</td>\n",
       "      <td>-79.506944</td>\n",
       "    </tr>\n",
       "    <tr>\n",
       "      <th>99</th>\n",
       "      <td>M4Y</td>\n",
       "      <td>Downtown Toronto</td>\n",
       "      <td>Church and Wellesley</td>\n",
       "      <td>43.665860</td>\n",
       "      <td>-79.383160</td>\n",
       "    </tr>\n",
       "    <tr>\n",
       "      <th>100</th>\n",
       "      <td>M7Y</td>\n",
       "      <td>East Toronto Business</td>\n",
       "      <td>Enclave of M4L</td>\n",
       "      <td>43.662744</td>\n",
       "      <td>-79.321558</td>\n",
       "    </tr>\n",
       "    <tr>\n",
       "      <th>101</th>\n",
       "      <td>M8Y</td>\n",
       "      <td>Etobicoke</td>\n",
       "      <td>Old Mill South, King's Mill Park, Sunnylea, Hu...</td>\n",
       "      <td>43.636258</td>\n",
       "      <td>-79.498509</td>\n",
       "    </tr>\n",
       "    <tr>\n",
       "      <th>102</th>\n",
       "      <td>M8Z</td>\n",
       "      <td>Etobicoke</td>\n",
       "      <td>Mimico NW, The Queensway West, South of Bloor,...</td>\n",
       "      <td>43.628841</td>\n",
       "      <td>-79.520999</td>\n",
       "    </tr>\n",
       "  </tbody>\n",
       "</table>\n",
       "<p>103 rows × 5 columns</p>\n",
       "</div>"
      ],
      "text/plain": [
       "    PostalCode                Borough  \\\n",
       "0          M3A             North York   \n",
       "1          M4A             North York   \n",
       "2          M5A       Downtown Toronto   \n",
       "3          M6A             North York   \n",
       "4          M7A           Queen's Park   \n",
       "..         ...                    ...   \n",
       "98         M8X              Etobicoke   \n",
       "99         M4Y       Downtown Toronto   \n",
       "100        M7Y  East Toronto Business   \n",
       "101        M8Y              Etobicoke   \n",
       "102        M8Z              Etobicoke   \n",
       "\n",
       "                                          Neighborhood   Latitude  Longitude  \n",
       "0                                            Parkwoods  43.753259 -79.329656  \n",
       "1                                     Victoria Village  43.725882 -79.315572  \n",
       "2                            Regent Park, Harbourfront  43.654260 -79.360636  \n",
       "3                     Lawrence Manor, Lawrence Heights  43.718518 -79.464763  \n",
       "4                        Ontario Provincial Government  43.662301 -79.389494  \n",
       "..                                                 ...        ...        ...  \n",
       "98       The Kingsway, Montgomery Road, Old Mill North  43.653654 -79.506944  \n",
       "99                                Church and Wellesley  43.665860 -79.383160  \n",
       "100                                     Enclave of M4L  43.662744 -79.321558  \n",
       "101  Old Mill South, King's Mill Park, Sunnylea, Hu...  43.636258 -79.498509  \n",
       "102  Mimico NW, The Queensway West, South of Bloor,...  43.628841 -79.520999  \n",
       "\n",
       "[103 rows x 5 columns]"
      ]
     },
     "execution_count": 36,
     "metadata": {},
     "output_type": "execute_result"
    }
   ],
   "source": [
    "result=pd.merge(df,df_coord,on=['PostalCode'])\n",
    "result"
   ]
  },
  {
   "cell_type": "markdown",
   "id": "60035f21",
   "metadata": {},
   "source": [
    "<h1 align='center'> Part-3 </h1>"
   ]
  },
  {
   "cell_type": "code",
   "execution_count": null,
   "id": "c1250023",
   "metadata": {},
   "outputs": [],
   "source": []
  }
 ],
 "metadata": {
  "kernelspec": {
   "display_name": "Python 3",
   "language": "python",
   "name": "python3"
  },
  "language_info": {
   "codemirror_mode": {
    "name": "ipython",
    "version": 3
   },
   "file_extension": ".py",
   "mimetype": "text/x-python",
   "name": "python",
   "nbconvert_exporter": "python",
   "pygments_lexer": "ipython3",
   "version": "3.9.5"
  }
 },
 "nbformat": 4,
 "nbformat_minor": 5
}
