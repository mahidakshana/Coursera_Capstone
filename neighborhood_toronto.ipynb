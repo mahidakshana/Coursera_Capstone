{
 "cells": [
  {
   "cell_type": "markdown",
   "id": "aad579a9",
   "metadata": {},
   "source": [
    "<h1 align=center> Segmentation and clustering Neighborhoods in Tornoto </h1>"
   ]
  },
  {
   "cell_type": "markdown",
   "id": "5d8b0fe1",
   "metadata": {},
   "source": [
    "## introduction\n",
    "In this project we will explore neighbourhood in Tornoto using Forsqure API.\n",
    "first we'll webscrap the data from wikipedia and then using ForSquare API and folium map extract imporatnt information from this data. We will use k-means clusterning algorithm to do this task"
   ]
  },
  {
   "cell_type": "markdown",
   "id": "6ddf1fc5",
   "metadata": {},
   "source": [
    "## Table of Contents\n",
    "1.  <a href=\"#item1\"> import required libraries</a>\n",
    "2.  <a href=\"#item1\">extract and Explore Dataset from Wikipedia using Webscrapping</a>\n"
   ]
  },
  {
   "cell_type": "markdown",
   "id": "c1289065",
   "metadata": {},
   "source": [
    "## 1.Import required libraries"
   ]
  },
  {
   "cell_type": "code",
   "execution_count": null,
   "id": "07628592",
   "metadata": {},
   "outputs": [],
   "source": [
    "#import libraries\n",
    "import numpy as np\n",
    "import pandas as pd\n",
    "!pip install bs4\n",
    "from bs4 import BeautifulSoup\n",
    "import requests\n",
    "!pip install html5lib\n",
    "!pip install lxml"
   ]
  },
  {
   "cell_type": "markdown",
   "id": "d3268038",
   "metadata": {},
   "source": [
    "## 2.extract and Explore Dataset from Wikipedia using Webscrapping"
   ]
  },
  {
   "cell_type": "code",
   "execution_count": 46,
   "id": "f3b54286",
   "metadata": {
    "scrolled": true
   },
   "outputs": [],
   "source": [
    "# using webscrapping to extract data\n",
    "url=\"https://en.wikipedia.org/wiki/List_of_postal_codes_of_Canada:_M\"\n",
    "html_data= requests.get(url).text\n",
    "beautiful_soup=BeautifulSoup(html_data,\"html.parser\")\n",
    "\n",
    "# crete new data frame\n",
    "df=pd.DataFrame(columns=['PostalCode','Borough','Neighborhood'])\n",
    "df\n",
    "\n",
    "\n",
    "# append data in data frame by webscrpping\n",
    "for row in beautiful_soup.find(\"tbody\").find_all(\"tr\"):\n",
    "    for col in row.find_all(\"td\"):\n",
    "        if col.span.text=='Not assigned':\n",
    "            pass\n",
    "        else:\n",
    "            pcode=col.p.text[:3]\n",
    "            borough=(col.span.text).split('(')[0]\n",
    "            nhood=(((((col.span.text).split('(')[1]).strip(')')).replace(' /',',')).replace(')',' ')).strip(' ')\n",
    "            df=df.append({'PostalCode':pcode,'Borough':borough,'Neighborhood':nhood},ignore_index=True)\n",
    "        \n",
    "df['Borough']=df['Borough'].replace({'Downtown TorontoStn A PO Boxes25 The Esplanade':'Downtown Toronto Stn A',\n",
    "                                             'East TorontoBusiness reply mail Processing Centre969 Eastern':'East Toronto Business',\n",
    "                                             'EtobicokeNorthwest':'Etobicoke Northwest','East YorkEast Toronto':'East York/East Toronto',\n",
    "                                             'MississaugaCanada Post Gateway Processing Centre':'Mississauga'})\n"
   ]
  },
  {
   "cell_type": "code",
   "execution_count": 45,
   "id": "eb3f7971",
   "metadata": {},
   "outputs": [
    {
     "data": {
      "text/plain": [
       "(103, 3)"
      ]
     },
     "execution_count": 45,
     "metadata": {},
     "output_type": "execute_result"
    }
   ],
   "source": [
    "df.shape"
   ]
  },
  {
   "cell_type": "code",
   "execution_count": null,
   "id": "ac176b49",
   "metadata": {},
   "outputs": [],
   "source": []
  }
 ],
 "metadata": {
  "kernelspec": {
   "display_name": "Python 3",
   "language": "python",
   "name": "python3"
  },
  "language_info": {
   "codemirror_mode": {
    "name": "ipython",
    "version": 3
   },
   "file_extension": ".py",
   "mimetype": "text/x-python",
   "name": "python",
   "nbconvert_exporter": "python",
   "pygments_lexer": "ipython3",
   "version": "3.9.5"
  }
 },
 "nbformat": 4,
 "nbformat_minor": 5
}
