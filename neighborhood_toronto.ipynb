{
 "cells": [
  {
   "cell_type": "markdown",
   "id": "5bb41bc5",
   "metadata": {},
   "source": [
    "<h1 align=center> Segmentation and clustering Neighborhoods in Tornoto </h1>"
   ]
  },
  {
   "cell_type": "markdown",
   "id": "4bdb2009",
   "metadata": {},
   "source": [
    "## introduction\n",
    "In this project we will explore neighbourhood in Tornoto using Forsqure API.\n",
    "first we'll webscrap the data from wikipedia and then using ForSquare API and folium map extract imporatnt information from this data. We will use k-means clusterning algorithm to do this task"
   ]
  },
  {
   "cell_type": "markdown",
   "id": "4024e024",
   "metadata": {},
   "source": [
    "## Table of Contents\n",
    "1.  <a href=\"#item1\"> import required libraries</a>\n",
    "2.  <a href=\"#item1\">extract and Explore Dataset from Wikipedia using Webscrapping</a>\n"
   ]
  },
  {
   "cell_type": "markdown",
   "id": "95076869",
   "metadata": {},
   "source": [
    "<h1 align='center'> Part-1 </h1>"
   ]
  },
  {
   "cell_type": "markdown",
   "id": "5c19ef0a",
   "metadata": {},
   "source": [
    "## 1. import required libraries"
   ]
  },
  {
   "cell_type": "code",
   "execution_count": null,
   "id": "a418b34e",
   "metadata": {
    "scrolled": true
   },
   "outputs": [],
   "source": [
    "#import libraries\n",
    "!pip install html5lib\n",
    "!pip install lxml\n",
    "!pip install geocoder\n",
    "!pip install bs4\n",
    "!pip install folium \n",
    "!pip install geopy\n",
    "import folium\n",
    "from geopy.geocoders import Nominatim # convert an address into latitude and longitude values\n",
    "from pandas.io.json import json_normalize # tranform JSON file into a pandas dataframe\n",
    "import numpy as np\n",
    "import pandas as pd\n",
    "from bs4 import BeautifulSoup\n",
    "import requests\n",
    "import geocoder\n",
    "print(\"all libraries installed and imported succefully\")"
   ]
  },
  {
   "cell_type": "markdown",
   "id": "8b571571",
   "metadata": {},
   "source": [
    "## 2. extract and Explore Dataset from Wikipedia using Webscrapping"
   ]
  },
  {
   "cell_type": "code",
   "execution_count": null,
   "id": "f3b54286",
   "metadata": {
    "scrolled": true
   },
   "outputs": [],
   "source": [
    "# using webscrapping to extract data\n",
    "url=\"https://en.wikipedia.org/wiki/List_of_postal_codes_of_Canada:_M\"\n",
    "html_data= requests.get(url).text\n",
    "beautiful_soup=BeautifulSoup(html_data,\"html.parser\")\n",
    "\n",
    "# crete new data frame\n",
    "df=pd.DataFrame(columns=['PostalCode','Borough','Neighborhood'])\n",
    "df\n",
    "\n",
    "\n",
    "# append data in data frame by webscrpping\n",
    "for row in beautiful_soup.find(\"tbody\").find_all(\"tr\"):\n",
    "    for col in row.find_all(\"td\"):\n",
    "        if col.span.text=='Not assigned':\n",
    "            pass\n",
    "        else:\n",
    "            pcode=col.p.text[:3]\n",
    "            borough=(col.span.text).split('(')[0]\n",
    "            nhood=(((((col.span.text).split('(')[1]).strip(')')).replace(' /',',')).replace(')',' ')).strip(' ')\n",
    "            df=df.append({'PostalCode':pcode,'Borough':borough,'Neighborhood':nhood},ignore_index=True)\n",
    "        \n",
    "df['Borough']=df['Borough'].replace({'Downtown TorontoStn A PO Boxes25 The Esplanade':'Downtown Toronto Stn A',\n",
    "                                             'East TorontoBusiness reply mail Processing Centre969 Eastern':'East Toronto Business',\n",
    "                                             'EtobicokeNorthwest':'Etobicoke Northwest','East YorkEast Toronto':'East York/East Toronto',\n",
    "                                             'MississaugaCanada Post Gateway Processing Centre':'Mississauga'})\n"
   ]
  },
  {
   "cell_type": "code",
   "execution_count": null,
   "id": "e9e2f0b3",
   "metadata": {},
   "outputs": [],
   "source": [
    "df.shape\n"
   ]
  },
  {
   "cell_type": "markdown",
   "id": "3be66bc1",
   "metadata": {},
   "source": [
    "<h1 align='center'> Part-2 </h1>"
   ]
  },
  {
   "cell_type": "markdown",
   "id": "c742ba58",
   "metadata": {},
   "source": [
    "### Read coordinates in dataframe from csv files"
   ]
  },
  {
   "cell_type": "code",
   "execution_count": null,
   "id": "722acdf6",
   "metadata": {},
   "outputs": [],
   "source": [
    "df_coord=pd.read_csv(\"Geospatial_Coordinates.csv\")\n",
    "df_coord.rename(columns= {'Postal Code':'PostalCode'},inplace=True)\n"
   ]
  },
  {
   "cell_type": "markdown",
   "id": "bde593ab",
   "metadata": {},
   "source": [
    "### merge both data frame to make final data frame which contain coordinates also"
   ]
  },
  {
   "cell_type": "code",
   "execution_count": null,
   "id": "e297303f",
   "metadata": {},
   "outputs": [],
   "source": [
    "result=pd.merge(df,df_coord,on=['PostalCode'])\n",
    "result"
   ]
  },
  {
   "cell_type": "markdown",
   "id": "60035f21",
   "metadata": {},
   "source": [
    "<h1 align='center'> Part-3 </h1>"
   ]
  },
  {
   "cell_type": "markdown",
   "id": "086fcfae",
   "metadata": {},
   "source": [
    "## clustering and Segmenting "
   ]
  },
  {
   "cell_type": "code",
   "execution_count": null,
   "id": "c1250023",
   "metadata": {
    "scrolled": true
   },
   "outputs": [],
   "source": [
    "\n"
   ]
  },
  {
   "cell_type": "markdown",
   "id": "5ac1f603",
   "metadata": {},
   "source": [
    "#### Use Geopy library to get coordinates of Toronto"
   ]
  },
  {
   "cell_type": "code",
   "execution_count": null,
   "id": "1f6c83d7",
   "metadata": {},
   "outputs": [],
   "source": [
    "from geopy.geocoders import Nominatim # convert an address into latitude and longitude values\n",
    "\n",
    "address='Toronto'\n",
    "geolocator=Nominatim(user_agent='Tr_explore')\n",
    "location=geolocator.geocode(address)\n",
    "latitude=location.latitude\n",
    "longitude=location.longitude\n",
    "print(\"The geographical coordinates of Tronoto are: {},{}\".format(latitude,longitude))"
   ]
  },
  {
   "cell_type": "markdown",
   "id": "9dffd8cd",
   "metadata": {},
   "source": [
    "###  Create a map of Toronto and add all neighborhoods on the same map"
   ]
  },
  {
   "cell_type": "code",
   "execution_count": null,
   "id": "05bb4859",
   "metadata": {},
   "outputs": [],
   "source": [
    "# create map of Tronto\n",
    "map_toronto= folium.Map(location=[latitude,longitude],zoom_start=13)\n",
    "\n",
    "#add neghborhood on toronto map\n",
    "\n",
    "for lat,lng,borough,nhood in zip(result['Latitude'],result['Longitude'],result['Borough'],result['Neighborhood']):\n",
    "        label=\"{},{}\".format(nhood,borough)\n",
    "        label = folium.Popup(label, parse_html=True)\n",
    "        folium.CircleMarker(\n",
    "        [lat,lng],\n",
    "        radius=5,\n",
    "        popup=label,\n",
    "        color='blue',\n",
    "        fill=True,\n",
    "        fill_color='red',\n",
    "        fill_opacity=0.7,\n",
    "        parse_html=False).add_to(map_toronto)\n",
    "\n",
    "map_toronto\n"
   ]
  },
  {
   "cell_type": "markdown",
   "id": "929584b6",
   "metadata": {},
   "source": [
    "above map is too congested, so for illustration purpose We'll use small set of Data\n",
    "Let's simplify the above map and consider only those neighborhood whose Borough name conatains \"Toronto\""
   ]
  },
  {
   "cell_type": "code",
   "execution_count": null,
   "id": "c7ea7786",
   "metadata": {},
   "outputs": [],
   "source": [
    "result.head()\n",
    "tr_data=result[ result['Borough'].str.contains('Toronto')].reset_index(drop=True)\n",
    "tr_data"
   ]
  },
  {
   "cell_type": "code",
   "execution_count": null,
   "id": "48a1cec2",
   "metadata": {},
   "outputs": [],
   "source": [
    "# create map of Tronto\n",
    "map_toronto= folium.Map(location=[latitude,longitude],zoom_start=13)\n",
    "\n",
    "#add neghborhood on toronto map\n",
    "\n",
    "for lat,lng,borough,nhood in zip(tr_data['Latitude'],tr_data['Longitude'],tr_data['Borough'],tr_data['Neighborhood']):\n",
    "        label=\"{},{}\".format(nhood,borough)\n",
    "        label = folium.Popup(label, parse_html=True)\n",
    "        folium.CircleMarker(\n",
    "        [lat,lng],\n",
    "        radius=5,\n",
    "        popup=label,\n",
    "        color='blue',\n",
    "        fill=True,\n",
    "        fill_color='red',\n",
    "        fill_opacity=0.7,\n",
    "        parse_html=False).add_to(map_toronto)\n",
    "\n",
    "map_toronto"
   ]
  },
  {
   "cell_type": "markdown",
   "id": "c760c26a",
   "metadata": {},
   "source": [
    "Now we are going to use Foursqure API to explore the neighborhood and explore them"
   ]
  },
  {
   "cell_type": "markdown",
   "id": "c8218f89",
   "metadata": {},
   "source": [
    "### Define Foursqure credential"
   ]
  },
  {
   "cell_type": "code",
   "execution_count": null,
   "id": "42006cbc",
   "metadata": {},
   "outputs": [],
   "source": [
    "CLIENT_ID = '15VSS0FQMGGTRNLEKHI1SFVW1CCLK12MDZ3E4GZKWJHNQHO1' # your Foursquare ID\n",
    "CLIENT_SECRET = 'FLYBN5UVHBPC1DZGXGJWCI1K53K3PJHVCYXGMQJVE4FJPQOC' # your Foursquare Secret\n",
    "VERSION = '20180605' # Foursquare API version\n",
    "LIMIT = 100 # A default Foursquare API limit value\n",
    "\n",
    "print('Your credentails:')\n",
    "print('CLIENT_ID: ' + CLIENT_ID)\n",
    "print('CLIENT_SECRET:' + CLIENT_SECRET)"
   ]
  },
  {
   "cell_type": "markdown",
   "id": "d76fe2be",
   "metadata": {},
   "source": [
    "Let's explore the first neighborhood from our data frame"
   ]
  },
  {
   "cell_type": "code",
   "execution_count": null,
   "id": "fc8d19af",
   "metadata": {},
   "outputs": [],
   "source": [
    "nhood_name=tr_data.loc[0,'Neighborhood'].split(',')[0].strip()\n",
    "nhood_name"
   ]
  },
  {
   "cell_type": "markdown",
   "id": "ff4574b6",
   "metadata": {},
   "source": [
    "Get the neighborhood latitude and longitude"
   ]
  },
  {
   "cell_type": "code",
   "execution_count": null,
   "id": "2b5488d3",
   "metadata": {},
   "outputs": [],
   "source": [
    "nhood_lat= tr_data.loc[0,'Latitude']\n",
    "nhood_lng= tr_data.loc[0,'Longitude']\n",
    "print(\"selected neighborhood is {} and its Coordinate are: {},{}\".format(nhood_name,nhood_lat,nhood_lng))"
   ]
  },
  {
   "cell_type": "markdown",
   "id": "e559a79c",
   "metadata": {},
   "source": [
    "#### Let's get top 100 venues taht are in Regent Park within a radius of 300 metre"
   ]
  },
  {
   "cell_type": "code",
   "execution_count": null,
   "id": "f44b79ee",
   "metadata": {},
   "outputs": [],
   "source": [
    "LIMIT=100\n",
    "radius=300\n",
    "url=\"https://api.foursquare.com/v2/venues/explore?client_id={}&client_secret={}&v={}&ll={},{}&radius={}&limit={}\".format(\n",
    "    CLIENT_ID, \n",
    "    CLIENT_SECRET, \n",
    "    VERSION, \n",
    "    nhood_lat, \n",
    "    nhood_lng, \n",
    "    radius, \n",
    "    LIMIT)\n",
    "url"
   ]
  },
  {
   "cell_type": "code",
   "execution_count": null,
   "id": "6f0aad75",
   "metadata": {},
   "outputs": [],
   "source": [
    "results=requests.get(url).json()\n",
    "results\n"
   ]
  },
  {
   "cell_type": "code",
   "execution_count": null,
   "id": "f2c71e9d",
   "metadata": {},
   "outputs": [],
   "source": [
    "# function that extracts the category of the venue\n",
    "def get_category_type(row):\n",
    "    try:\n",
    "        categories_list = row['categories']\n",
    "    except:\n",
    "        categories_list = row['venue.categories']\n",
    "        \n",
    "    if len(categories_list) == 0:\n",
    "        return None\n",
    "    else:\n",
    "        return categories_list[0]['name']"
   ]
  },
  {
   "cell_type": "code",
   "execution_count": null,
   "id": "b47aabb9",
   "metadata": {
    "scrolled": true
   },
   "outputs": [],
   "source": [
    "venue=results['response']['groups'][0]['items']\n",
    "nearby_venues=json_normalize(venue)\n",
    "nearby_venues\n",
    "\n",
    "# filter columns\n",
    "filtered_columns = ['venue.name', 'venue.categories', 'venue.location.lat', 'venue.location.lng']\n",
    "nearby_venues =nearby_venues.loc[:, filtered_columns]\n",
    "\n",
    "\n",
    "# filter the category for each row\n",
    "nearby_venues['venue.categories'] = nearby_venues.apply(get_category_type, axis=1)\n",
    "\n",
    "# clean columns\n",
    "nearby_venues.columns = [col.split(\".\")[-1] for col in nearby_venues.columns]\n",
    "\n",
    "print(nearby_venues.shape)\n",
    "nearby_venues.head()"
   ]
  },
  {
   "cell_type": "markdown",
   "id": "e7e4cbbd",
   "metadata": {},
   "source": [
    "# Explore Neighborhoods "
   ]
  },
  {
   "cell_type": "code",
   "execution_count": null,
   "id": "2eb3da6f",
   "metadata": {},
   "outputs": [],
   "source": [
    "def getNearbyVenues(names, latitudes, longitudes, radius=500):\n",
    "    \n",
    "    venues_list=[]\n",
    "    for name, lat, lng in zip(names, latitudes, longitudes):\n",
    "        print(name)\n",
    "            \n",
    "        # create the API request URL\n",
    "        url = 'https://api.foursquare.com/v2/venues/explore?&client_id={}&client_secret={}&v={}&ll={},{}&radius={}&limit={}'.format(\n",
    "            CLIENT_ID, \n",
    "            CLIENT_SECRET, \n",
    "            VERSION, \n",
    "            lat, \n",
    "            lng, \n",
    "            radius, \n",
    "            LIMIT)\n",
    "            \n",
    "        # make the GET request\n",
    "        results = requests.get(url).json()[\"response\"]['groups'][0]['items']\n",
    "        \n",
    "        # return only relevant information for each nearby venue\n",
    "        venues_list.append([(\n",
    "            name, \n",
    "            lat, \n",
    "            lng, \n",
    "            v['venue']['name'], \n",
    "            v['venue']['location']['lat'], \n",
    "            v['venue']['location']['lng'],  \n",
    "            v['venue']['categories'][0]['name']) for v in results])\n",
    "\n",
    "    nearby_venues = pd.DataFrame([item for venue_list in venues_list for item in venue_list])\n",
    "    nearby_venues.columns = ['Neighborhood', \n",
    "                  'Neighborhood Latitude', \n",
    "                  'Neighborhood Longitude', \n",
    "                  'Venue', \n",
    "                  'Venue Latitude', \n",
    "                  'Venue Longitude', \n",
    "                  'Venue Category']\n",
    "    \n",
    "    return(nearby_venues)\n",
    "    "
   ]
  },
  {
   "cell_type": "code",
   "execution_count": null,
   "id": "7577face",
   "metadata": {},
   "outputs": [],
   "source": [
    "toronto_venue=getNearbyVenues(tr_data['Neighborhood'],tr_data['Latitude'],tr_data['Longitude'])"
   ]
  },
  {
   "cell_type": "code",
   "execution_count": null,
   "id": "25f42d82",
   "metadata": {},
   "outputs": [],
   "source": [
    "print(toronto_venue.shape)\n",
    "toronto_venue.head()"
   ]
  },
  {
   "cell_type": "markdown",
   "id": "01fc7d7d",
   "metadata": {},
   "source": [
    "###### Count No. of values returned for each neighborhood"
   ]
  },
  {
   "cell_type": "code",
   "execution_count": null,
   "id": "cf297f46",
   "metadata": {},
   "outputs": [],
   "source": [
    "toronto_venue.groupby(\"Neighborhood\").count()"
   ]
  },
  {
   "cell_type": "markdown",
   "id": "341e59f3",
   "metadata": {},
   "source": [
    "Let's try to find out no. of venues for each category in neighborhood of Toronto <br>\n",
    "We can sort them is descending order and we can find that coffe shop is maximum followed by cafe an then Restaurant"
   ]
  },
  {
   "cell_type": "code",
   "execution_count": null,
   "id": "5386c08f",
   "metadata": {},
   "outputs": [],
   "source": [
    "toronto_venue.groupby(\"Venue Category\").count().sort_values(by='Venue',ascending=False)"
   ]
  },
  {
   "cell_type": "markdown",
   "id": "bec71207",
   "metadata": {},
   "source": [
    "## Analyze each Neighborhood"
   ]
  },
  {
   "cell_type": "code",
   "execution_count": null,
   "id": "192ce405",
   "metadata": {},
   "outputs": [],
   "source": []
  }
 ],
 "metadata": {
  "kernelspec": {
   "display_name": "Python 3",
   "language": "python",
   "name": "python3"
  },
  "language_info": {
   "codemirror_mode": {
    "name": "ipython",
    "version": 3
   },
   "file_extension": ".py",
   "mimetype": "text/x-python",
   "name": "python",
   "nbconvert_exporter": "python",
   "pygments_lexer": "ipython3",
   "version": "3.9.5"
  }
 },
 "nbformat": 4,
 "nbformat_minor": 5
}
